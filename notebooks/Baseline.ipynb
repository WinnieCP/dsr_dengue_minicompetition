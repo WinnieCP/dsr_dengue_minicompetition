{
 "cells": [
  {
   "cell_type": "code",
   "execution_count": null,
   "id": "6d89f9fa-11a4-4fdd-a737-1581fab87484",
   "metadata": {},
   "outputs": [],
   "source": [
    "import pandas as pd\n",
    "import numpy as np\n",
    "\n",
    "from matplotlib import pyplot as plt\n",
    "import seaborn as sns\n",
    "\n",
    "from sklearn.linear_model import LinearRegression\n",
    "from sklearn.linear_model import Ridge\n",
    "from sklearn.model_selection import train_test_split\n",
    "import xgboost as xgb\n",
    "\n",
    "from sklearn.metrics import mean_absolute_error\n",
    "\n",
    "import statsmodels.api as sm"
   ]
  },
  {
   "cell_type": "code",
   "execution_count": null,
   "id": "f242750e-a6b1-4696-a48d-7362d02b868b",
   "metadata": {},
   "outputs": [],
   "source": [
    "# load the provided data\n",
    "train_features = pd.read_csv('./data/dengue_features_train.csv',\n",
    "                             index_col=[0,1,2])\n",
    "\n",
    "train_labels = pd.read_csv('./data/dengue_labels_train.csv',\n",
    "                           index_col=[0,1,2])\n",
    "test_features = pd.read_csv('./data/dengue_features_test.csv',\n",
    "                             index_col=[0,1,2])"
   ]
  },
  {
   "cell_type": "code",
   "execution_count": null,
   "id": "b68a2381-4009-4584-9257-a0784d9bc565",
   "metadata": {},
   "outputs": [],
   "source": [
    "# Seperate data for San Juan\n",
    "sj_train_features = train_features.loc['sj']\n",
    "sj_train_labels = train_labels.loc['sj']\n",
    "sj_test_features = test_features.loc['sj']\n",
    "\n",
    "# Separate data for Iquitos\n",
    "iq_train_features = train_features.loc['iq']\n",
    "iq_train_labels = train_labels.loc['iq']\n",
    "iq_test_features = test_features.loc['iq']"
   ]
  },
  {
   "cell_type": "code",
   "execution_count": null,
   "id": "6ee5dae1-be93-493c-a7b4-7797d011d579",
   "metadata": {},
   "outputs": [
    {
     "name": "stderr",
     "output_type": "stream",
     "text": [
      "/home/isabell/anaconda3/lib/python3.9/site-packages/pandas/core/frame.py:4906: SettingWithCopyWarning: \n",
      "A value is trying to be set on a copy of a slice from a DataFrame\n",
      "\n",
      "See the caveats in the documentation: https://pandas.pydata.org/pandas-docs/stable/user_guide/indexing.html#returning-a-view-versus-a-copy\n",
      "  return super().drop(\n"
     ]
    }
   ],
   "source": [
    "# Remove `week_start_date` string.\n",
    "sj_train_features.drop('week_start_date', axis=1, inplace=True)\n",
    "iq_train_features.drop('week_start_date', axis=1, inplace=True)\n",
    "\n",
    "sj_test_features.drop('week_start_date', axis=1, inplace=True)\n",
    "iq_test_features.drop('week_start_date', axis=1, inplace=True)"
   ]
  },
  {
   "cell_type": "code",
   "execution_count": null,
   "id": "3f3aef3c-0488-49c8-a4bd-997d6498f8e3",
   "metadata": {},
   "outputs": [
    {
     "name": "stderr",
     "output_type": "stream",
     "text": [
      "/home/isabell/anaconda3/lib/python3.9/site-packages/pandas/core/frame.py:5176: SettingWithCopyWarning: \n",
      "A value is trying to be set on a copy of a slice from a DataFrame\n",
      "\n",
      "See the caveats in the documentation: https://pandas.pydata.org/pandas-docs/stable/user_guide/indexing.html#returning-a-view-versus-a-copy\n",
      "  return super().fillna(\n"
     ]
    }
   ],
   "source": [
    "#Filling null values\n",
    "sj_train_features.fillna(method='ffill', inplace=True)\n",
    "iq_train_features.fillna(method='ffill', inplace=True)\n",
    "\n",
    "sj_test_features.fillna(method='ffill', inplace=True)\n",
    "iq_test_features.fillna(method='ffill', inplace=True)"
   ]
  },
  {
   "cell_type": "code",
   "execution_count": null,
   "id": "d899244d-6225-4145-b310-0f929316872a",
   "metadata": {},
   "outputs": [],
   "source": [
    "#Split-up train and test set (strict-future holdout set)\n",
    "sj_train_features_subtrain = sj_train_features.head(800)\n",
    "sj_train_features_subtest = sj_train_features.tail(sj_train_features.shape[0] - 800)\n",
    "sj_train_labels_subtrain = sj_train_labels.head(800)\n",
    "sj_train_labels_subtest = sj_train_labels.tail(sj_train_labels.shape[0] - 800)\n",
    "\n",
    "iq_train_features_subtrain = iq_train_features.head(400)\n",
    "iq_train_features_subtest = iq_train_features.tail(iq_train_features.shape[0] - 400)\n",
    "iq_train_labels_subtrain = iq_train_labels.head(400)\n",
    "iq_train_labels_subtest = iq_train_labels.tail(iq_train_labels.shape[0] - 400)"
   ]
  },
  {
   "cell_type": "code",
   "execution_count": null,
   "id": "b88814bb-ed00-4895-ac30-cdfdfa822706",
   "metadata": {},
   "outputs": [
    {
     "data": {
      "text/html": [
       "<div>\n",
       "<style scoped>\n",
       "    .dataframe tbody tr th:only-of-type {\n",
       "        vertical-align: middle;\n",
       "    }\n",
       "\n",
       "    .dataframe tbody tr th {\n",
       "        vertical-align: top;\n",
       "    }\n",
       "\n",
       "    .dataframe thead th {\n",
       "        text-align: right;\n",
       "    }\n",
       "</style>\n",
       "<table border=\"1\" class=\"dataframe\">\n",
       "  <thead>\n",
       "    <tr style=\"text-align: right;\">\n",
       "      <th></th>\n",
       "      <th></th>\n",
       "      <th>ndvi_ne</th>\n",
       "      <th>ndvi_nw</th>\n",
       "      <th>ndvi_se</th>\n",
       "      <th>ndvi_sw</th>\n",
       "      <th>precipitation_amt_mm</th>\n",
       "      <th>reanalysis_air_temp_k</th>\n",
       "      <th>reanalysis_avg_temp_k</th>\n",
       "      <th>reanalysis_dew_point_temp_k</th>\n",
       "      <th>reanalysis_max_air_temp_k</th>\n",
       "      <th>reanalysis_min_air_temp_k</th>\n",
       "      <th>reanalysis_precip_amt_kg_per_m2</th>\n",
       "      <th>reanalysis_relative_humidity_percent</th>\n",
       "      <th>reanalysis_sat_precip_amt_mm</th>\n",
       "      <th>reanalysis_specific_humidity_g_per_kg</th>\n",
       "      <th>reanalysis_tdtr_k</th>\n",
       "      <th>station_avg_temp_c</th>\n",
       "      <th>station_diur_temp_rng_c</th>\n",
       "      <th>station_max_temp_c</th>\n",
       "      <th>station_min_temp_c</th>\n",
       "      <th>station_precip_mm</th>\n",
       "    </tr>\n",
       "    <tr>\n",
       "      <th>year</th>\n",
       "      <th>weekofyear</th>\n",
       "      <th></th>\n",
       "      <th></th>\n",
       "      <th></th>\n",
       "      <th></th>\n",
       "      <th></th>\n",
       "      <th></th>\n",
       "      <th></th>\n",
       "      <th></th>\n",
       "      <th></th>\n",
       "      <th></th>\n",
       "      <th></th>\n",
       "      <th></th>\n",
       "      <th></th>\n",
       "      <th></th>\n",
       "      <th></th>\n",
       "      <th></th>\n",
       "      <th></th>\n",
       "      <th></th>\n",
       "      <th></th>\n",
       "      <th></th>\n",
       "    </tr>\n",
       "  </thead>\n",
       "  <tbody>\n",
       "    <tr>\n",
       "      <th rowspan=\"5\" valign=\"top\">1990</th>\n",
       "      <th>18</th>\n",
       "      <td>0.122600</td>\n",
       "      <td>0.103725</td>\n",
       "      <td>0.198483</td>\n",
       "      <td>0.177617</td>\n",
       "      <td>12.42</td>\n",
       "      <td>297.572857</td>\n",
       "      <td>297.742857</td>\n",
       "      <td>292.414286</td>\n",
       "      <td>299.8</td>\n",
       "      <td>295.9</td>\n",
       "      <td>32.00</td>\n",
       "      <td>73.365714</td>\n",
       "      <td>12.42</td>\n",
       "      <td>14.012857</td>\n",
       "      <td>2.628571</td>\n",
       "      <td>25.442857</td>\n",
       "      <td>6.900000</td>\n",
       "      <td>29.4</td>\n",
       "      <td>20.0</td>\n",
       "      <td>16.0</td>\n",
       "    </tr>\n",
       "    <tr>\n",
       "      <th>19</th>\n",
       "      <td>0.169900</td>\n",
       "      <td>0.142175</td>\n",
       "      <td>0.162357</td>\n",
       "      <td>0.155486</td>\n",
       "      <td>22.82</td>\n",
       "      <td>298.211429</td>\n",
       "      <td>298.442857</td>\n",
       "      <td>293.951429</td>\n",
       "      <td>300.9</td>\n",
       "      <td>296.4</td>\n",
       "      <td>17.94</td>\n",
       "      <td>77.368571</td>\n",
       "      <td>22.82</td>\n",
       "      <td>15.372857</td>\n",
       "      <td>2.371429</td>\n",
       "      <td>26.714286</td>\n",
       "      <td>6.371429</td>\n",
       "      <td>31.7</td>\n",
       "      <td>22.2</td>\n",
       "      <td>8.6</td>\n",
       "    </tr>\n",
       "    <tr>\n",
       "      <th>20</th>\n",
       "      <td>0.032250</td>\n",
       "      <td>0.172967</td>\n",
       "      <td>0.157200</td>\n",
       "      <td>0.170843</td>\n",
       "      <td>34.54</td>\n",
       "      <td>298.781429</td>\n",
       "      <td>298.878571</td>\n",
       "      <td>295.434286</td>\n",
       "      <td>300.5</td>\n",
       "      <td>297.3</td>\n",
       "      <td>26.10</td>\n",
       "      <td>82.052857</td>\n",
       "      <td>34.54</td>\n",
       "      <td>16.848571</td>\n",
       "      <td>2.300000</td>\n",
       "      <td>26.714286</td>\n",
       "      <td>6.485714</td>\n",
       "      <td>32.2</td>\n",
       "      <td>22.8</td>\n",
       "      <td>41.4</td>\n",
       "    </tr>\n",
       "    <tr>\n",
       "      <th>21</th>\n",
       "      <td>0.128633</td>\n",
       "      <td>0.245067</td>\n",
       "      <td>0.227557</td>\n",
       "      <td>0.235886</td>\n",
       "      <td>15.36</td>\n",
       "      <td>298.987143</td>\n",
       "      <td>299.228571</td>\n",
       "      <td>295.310000</td>\n",
       "      <td>301.4</td>\n",
       "      <td>297.0</td>\n",
       "      <td>13.90</td>\n",
       "      <td>80.337143</td>\n",
       "      <td>15.36</td>\n",
       "      <td>16.672857</td>\n",
       "      <td>2.428571</td>\n",
       "      <td>27.471429</td>\n",
       "      <td>6.771429</td>\n",
       "      <td>33.3</td>\n",
       "      <td>23.3</td>\n",
       "      <td>4.0</td>\n",
       "    </tr>\n",
       "    <tr>\n",
       "      <th>22</th>\n",
       "      <td>0.196200</td>\n",
       "      <td>0.262200</td>\n",
       "      <td>0.251200</td>\n",
       "      <td>0.247340</td>\n",
       "      <td>7.52</td>\n",
       "      <td>299.518571</td>\n",
       "      <td>299.664286</td>\n",
       "      <td>295.821429</td>\n",
       "      <td>301.9</td>\n",
       "      <td>297.5</td>\n",
       "      <td>12.20</td>\n",
       "      <td>80.460000</td>\n",
       "      <td>7.52</td>\n",
       "      <td>17.210000</td>\n",
       "      <td>3.014286</td>\n",
       "      <td>28.942857</td>\n",
       "      <td>9.371429</td>\n",
       "      <td>35.0</td>\n",
       "      <td>23.9</td>\n",
       "      <td>5.8</td>\n",
       "    </tr>\n",
       "  </tbody>\n",
       "</table>\n",
       "</div>"
      ],
      "text/plain": [
       "                  ndvi_ne   ndvi_nw   ndvi_se   ndvi_sw  precipitation_amt_mm  \\\n",
       "year weekofyear                                                                 \n",
       "1990 18          0.122600  0.103725  0.198483  0.177617                 12.42   \n",
       "     19          0.169900  0.142175  0.162357  0.155486                 22.82   \n",
       "     20          0.032250  0.172967  0.157200  0.170843                 34.54   \n",
       "     21          0.128633  0.245067  0.227557  0.235886                 15.36   \n",
       "     22          0.196200  0.262200  0.251200  0.247340                  7.52   \n",
       "\n",
       "                 reanalysis_air_temp_k  reanalysis_avg_temp_k  \\\n",
       "year weekofyear                                                 \n",
       "1990 18                     297.572857             297.742857   \n",
       "     19                     298.211429             298.442857   \n",
       "     20                     298.781429             298.878571   \n",
       "     21                     298.987143             299.228571   \n",
       "     22                     299.518571             299.664286   \n",
       "\n",
       "                 reanalysis_dew_point_temp_k  reanalysis_max_air_temp_k  \\\n",
       "year weekofyear                                                           \n",
       "1990 18                           292.414286                      299.8   \n",
       "     19                           293.951429                      300.9   \n",
       "     20                           295.434286                      300.5   \n",
       "     21                           295.310000                      301.4   \n",
       "     22                           295.821429                      301.9   \n",
       "\n",
       "                 reanalysis_min_air_temp_k  reanalysis_precip_amt_kg_per_m2  \\\n",
       "year weekofyear                                                               \n",
       "1990 18                              295.9                            32.00   \n",
       "     19                              296.4                            17.94   \n",
       "     20                              297.3                            26.10   \n",
       "     21                              297.0                            13.90   \n",
       "     22                              297.5                            12.20   \n",
       "\n",
       "                 reanalysis_relative_humidity_percent  \\\n",
       "year weekofyear                                         \n",
       "1990 18                                     73.365714   \n",
       "     19                                     77.368571   \n",
       "     20                                     82.052857   \n",
       "     21                                     80.337143   \n",
       "     22                                     80.460000   \n",
       "\n",
       "                 reanalysis_sat_precip_amt_mm  \\\n",
       "year weekofyear                                 \n",
       "1990 18                                 12.42   \n",
       "     19                                 22.82   \n",
       "     20                                 34.54   \n",
       "     21                                 15.36   \n",
       "     22                                  7.52   \n",
       "\n",
       "                 reanalysis_specific_humidity_g_per_kg  reanalysis_tdtr_k  \\\n",
       "year weekofyear                                                             \n",
       "1990 18                                      14.012857           2.628571   \n",
       "     19                                      15.372857           2.371429   \n",
       "     20                                      16.848571           2.300000   \n",
       "     21                                      16.672857           2.428571   \n",
       "     22                                      17.210000           3.014286   \n",
       "\n",
       "                 station_avg_temp_c  station_diur_temp_rng_c  \\\n",
       "year weekofyear                                                \n",
       "1990 18                   25.442857                 6.900000   \n",
       "     19                   26.714286                 6.371429   \n",
       "     20                   26.714286                 6.485714   \n",
       "     21                   27.471429                 6.771429   \n",
       "     22                   28.942857                 9.371429   \n",
       "\n",
       "                 station_max_temp_c  station_min_temp_c  station_precip_mm  \n",
       "year weekofyear                                                             \n",
       "1990 18                        29.4                20.0               16.0  \n",
       "     19                        31.7                22.2                8.6  \n",
       "     20                        32.2                22.8               41.4  \n",
       "     21                        33.3                23.3                4.0  \n",
       "     22                        35.0                23.9                5.8  "
      ]
     },
     "execution_count": 7,
     "metadata": {},
     "output_type": "execute_result"
    }
   ],
   "source": [
    "sj_train_features.head()"
   ]
  },
  {
   "cell_type": "code",
   "execution_count": null,
   "id": "67452df6-2215-4619-8e2c-2bb906390d3b",
   "metadata": {},
   "outputs": [
    {
     "data": {
      "text/html": [
       "<div>\n",
       "<style scoped>\n",
       "    .dataframe tbody tr th:only-of-type {\n",
       "        vertical-align: middle;\n",
       "    }\n",
       "\n",
       "    .dataframe tbody tr th {\n",
       "        vertical-align: top;\n",
       "    }\n",
       "\n",
       "    .dataframe thead th {\n",
       "        text-align: right;\n",
       "    }\n",
       "</style>\n",
       "<table border=\"1\" class=\"dataframe\">\n",
       "  <thead>\n",
       "    <tr style=\"text-align: right;\">\n",
       "      <th></th>\n",
       "      <th></th>\n",
       "      <th>total_cases</th>\n",
       "    </tr>\n",
       "    <tr>\n",
       "      <th>year</th>\n",
       "      <th>weekofyear</th>\n",
       "      <th></th>\n",
       "    </tr>\n",
       "  </thead>\n",
       "  <tbody>\n",
       "    <tr>\n",
       "      <th rowspan=\"5\" valign=\"top\">1990</th>\n",
       "      <th>18</th>\n",
       "      <td>4</td>\n",
       "    </tr>\n",
       "    <tr>\n",
       "      <th>19</th>\n",
       "      <td>5</td>\n",
       "    </tr>\n",
       "    <tr>\n",
       "      <th>20</th>\n",
       "      <td>4</td>\n",
       "    </tr>\n",
       "    <tr>\n",
       "      <th>21</th>\n",
       "      <td>3</td>\n",
       "    </tr>\n",
       "    <tr>\n",
       "      <th>22</th>\n",
       "      <td>6</td>\n",
       "    </tr>\n",
       "  </tbody>\n",
       "</table>\n",
       "</div>"
      ],
      "text/plain": [
       "                 total_cases\n",
       "year weekofyear             \n",
       "1990 18                    4\n",
       "     19                    5\n",
       "     20                    4\n",
       "     21                    3\n",
       "     22                    6"
      ]
     },
     "execution_count": 8,
     "metadata": {},
     "output_type": "execute_result"
    }
   ],
   "source": [
    "sj_train_labels.head()"
   ]
  },
  {
   "cell_type": "markdown",
   "id": "fb88bc09-67f5-4410-942f-ec0d3dacc037",
   "metadata": {},
   "source": [
    "## Baseline - Mean"
   ]
  },
  {
   "cell_type": "code",
   "execution_count": null,
   "id": "e5e7715f-5253-4e90-b60d-87900d71261e",
   "metadata": {},
   "outputs": [
    {
     "data": {
      "text/plain": [
       "total_cases    26.695257\n",
       "dtype: float64"
      ]
     },
     "execution_count": 9,
     "metadata": {},
     "output_type": "execute_result"
    }
   ],
   "source": [
    "#mean for sj\n",
    "sj_pred = sj_train_labels_subtrain.mean()\n",
    "np.mean( np.abs(sj_train_labels_subtest - sj_pred))"
   ]
  },
  {
   "cell_type": "code",
   "execution_count": null,
   "id": "80f983d8-e986-40d9-a0cf-16ad225b3bd3",
   "metadata": {},
   "outputs": [
    {
     "data": {
      "text/plain": [
       "total_cases    7.020667\n",
       "dtype: float64"
      ]
     },
     "execution_count": 10,
     "metadata": {},
     "output_type": "execute_result"
    }
   ],
   "source": [
    "#mean for iq\n",
    "iq_pred = iq_train_labels_subtrain.mean()\n",
    "np.mean( np.abs(iq_train_labels_subtest - iq_pred))"
   ]
  },
  {
   "cell_type": "markdown",
   "id": "710e1523-9412-449e-bfde-601b9a79734f",
   "metadata": {},
   "source": [
    "## Linear Model"
   ]
  },
  {
   "cell_type": "code",
   "execution_count": null,
   "id": "7b8ef460-0764-4e14-80a5-bcecf5264753",
   "metadata": {},
   "outputs": [],
   "source": [
    "def LinearRegression_dengue(X_train, Y_train, X_test, features, reg=None, alpha=0.1):\n",
    "    if reg==None:\n",
    "        reg = LinearRegression()\n",
    "    elif reg=='Ridge':\n",
    "        reg = Ridge(alpha=alpha)\n",
    "    reg.fit(X_train.loc[:, features], Y_train)\n",
    "    pred = reg.predict(X_test.loc[:, features])\n",
    "    pred = np.around(pred).astype(int)\n",
    "    pred[pred <0] = 0\n",
    "    return pred"
   ]
  },
  {
   "cell_type": "markdown",
   "id": "ca21b52a-3407-4086-b541-92f7e8db1dc3",
   "metadata": {},
   "source": [
    "## Linear Model with all features"
   ]
  },
  {
   "cell_type": "code",
   "execution_count": 55,
   "id": "392b4e55-78b6-4601-8284-5249143d6934",
   "metadata": {},
   "outputs": [
    {
     "data": {
      "text/plain": [
       "22.74264705882353"
      ]
     },
     "execution_count": 55,
     "metadata": {},
     "output_type": "execute_result"
    }
   ],
   "source": [
    "#Test for sj\n",
    "features = sj_train_features.columns\n",
    "sj_pred = LinearRegression_dengue(sj_train_features_subtrain, sj_train_labels_subtrain, sj_train_features_subtest, features, reg='Ridge', alpha=3)\n",
    "mean_absolute_error(sj_train_labels_subtest, sj_pred)"
   ]
  },
  {
   "cell_type": "code",
   "execution_count": null,
   "id": "47f7adda-608e-428c-824c-3a2161864307",
   "metadata": {},
   "outputs": [],
   "source": [
    "sj_df_plot = sj_train_labels_subtest.copy()\n",
    "sj_df_plot['prediction'] = sj_pred"
   ]
  },
  {
   "cell_type": "code",
   "execution_count": null,
   "id": "67dff96c-7278-40be-8242-7da499f9a32f",
   "metadata": {},
   "outputs": [
    {
     "data": {
      "text/plain": [
       "Text(0.5, 0, 'Time')"
      ]
     },
     "execution_count": 14,
     "metadata": {},
     "output_type": "execute_result"
    },
    {
     "data": {
      "image/png": "[encoded data removed]",
      "text/plain": [
       "<Figure size 640x480 with 1 Axes>"
      ]
     },
     "metadata": {},
     "output_type": "display_data"
    }
   ],
   "source": [
    "(sj_df_plot\n",
    "     .plot\n",
    "     .line(lw=0.8))\n",
    "\n",
    "plt.title('true Values vs prediction')\n",
    "plt.xlabel('Time')"
   ]
  },
  {
   "cell_type": "code",
   "execution_count": null,
   "id": "23570fea-63b1-4a1a-8dc1-5b1c81988d83",
   "metadata": {
    "tags": []
   },
   "outputs": [
    {
     "data": {
      "text/plain": [
       "7.183333333333334"
      ]
     },
     "execution_count": 15,
     "metadata": {},
     "output_type": "execute_result"
    }
   ],
   "source": [
    "#Test for iq\n",
    "iq_pred = LinearRegression_dengue(iq_train_features_subtrain, iq_train_labels_subtrain, iq_train_features_subtest, features, reg='Ridge', alpha=1)\n",
    "mean_absolute_error(iq_train_labels_subtest, iq_pred)"
   ]
  },
  {
   "cell_type": "code",
   "execution_count": null,
   "id": "c2732f68-b4d9-48b3-bcd8-57fffde2a48f",
   "metadata": {},
   "outputs": [],
   "source": [
    "iq_df_plot = iq_train_labels_subtest.copy()\n",
    "iq_df_plot['prediction'] = iq_pred"
   ]
  },
  {
   "cell_type": "code",
   "execution_count": null,
   "id": "f979072f-e5ba-4fbb-a4ad-053ed985716f",
   "metadata": {},
   "outputs": [
    {
     "data": {
      "text/plain": [
       "Text(0.5, 0, 'Time')"
      ]
     },
     "execution_count": 17,
     "metadata": {},
     "output_type": "execute_result"
    },
    {
     "data": {
      "image/png": "[encoded data removed]",
      "text/plain": [
       "<Figure size 640x480 with 1 Axes>"
      ]
     },
     "metadata": {},
     "output_type": "display_data"
    }
   ],
   "source": [
    "(iq_df_plot\n",
    "     .plot\n",
    "     .line(lw=0.8))\n",
    "\n",
    "plt.title('true Values vs prediction')\n",
    "plt.xlabel('Time')"
   ]
  },
  {
   "cell_type": "markdown",
   "id": "b43dc183-efcb-48f1-b0ce-d4ef6d5fe717",
   "metadata": {},
   "source": [
    "## Linear model with few features"
   ]
  },
  {
   "cell_type": "code",
   "execution_count": null,
   "id": "b1c2aad8-15d7-4452-9f2e-997973ad5343",
   "metadata": {},
   "outputs": [],
   "source": [
    "features = ['reanalysis_specific_humidity_g_per_kg', 'reanalysis_dew_point_temp_k', 'station_avg_temp_c', 'station_min_temp_c']"
   ]
  },
  {
   "cell_type": "code",
   "execution_count": 48,
   "id": "eb1ff012-ec32-4c14-b84a-bd186ae88522",
   "metadata": {},
   "outputs": [
    {
     "data": {
      "text/plain": [
       "22.16176470588235"
      ]
     },
     "execution_count": 48,
     "metadata": {},
     "output_type": "execute_result"
    }
   ],
   "source": [
    "#Test for sj\n",
    "sj_pred = LinearRegression_dengue(sj_train_features_subtrain, sj_train_labels_subtrain, sj_train_features_subtest, features, reg='Ridge', alpha=0.1)\n",
    "mean_absolute_error(sj_train_labels_subtest, sj_pred)"
   ]
  },
  {
   "cell_type": "code",
   "execution_count": null,
   "id": "46ff193a-99ce-4e9b-92ca-3d6324de799d",
   "metadata": {},
   "outputs": [],
   "source": [
    "sj_df_plot = sj_train_labels_subtest.copy()\n",
    "sj_df_plot['prediction'] = sj_pred"
   ]
  },
  {
   "cell_type": "code",
   "execution_count": null,
   "id": "93f75763-0c64-4090-8b94-1133630b667a",
   "metadata": {},
   "outputs": [
    {
     "data": {
      "text/plain": [
       "Text(0.5, 0, 'Time')"
      ]
     },
     "execution_count": 21,
     "metadata": {},
     "output_type": "execute_result"
    },
    {
     "data": {
      "image/png": "[encoded data removed]",
      "text/plain": [
       "<Figure size 640x480 with 1 Axes>"
      ]
     },
     "metadata": {},
     "output_type": "display_data"
    }
   ],
   "source": [
    "(sj_df_plot\n",
    "     .plot\n",
    "     .line(lw=0.8))\n",
    "\n",
    "plt.title('true Values vs prediction')\n",
    "plt.xlabel('Time')"
   ]
  },
  {
   "cell_type": "code",
   "execution_count": 51,
   "id": "4e6790b0-7f84-46d2-9222-4cb91cdc538a",
   "metadata": {},
   "outputs": [
    {
     "data": {
      "text/plain": [
       "6.65"
      ]
     },
     "execution_count": 51,
     "metadata": {},
     "output_type": "execute_result"
    }
   ],
   "source": [
    "#Test for iq\n",
    "iq_pred = LinearRegression_dengue(iq_train_features_subtrain, iq_train_labels_subtrain, iq_train_features_subtest, features, reg='Ridge', alpha=0.1)\n",
    "mean_absolute_error(iq_train_labels_subtest, iq_pred)"
   ]
  },
  {
   "cell_type": "code",
   "execution_count": null,
   "id": "b3c24ca9-6c5b-4141-b4e9-3b1fc060d621",
   "metadata": {},
   "outputs": [],
   "source": [
    "iq_df_plot = iq_train_labels_subtest.copy()\n",
    "iq_df_plot['prediction'] = iq_pred"
   ]
  },
  {
   "cell_type": "code",
   "execution_count": null,
   "id": "ef889d2c-bb53-4ee3-a8ce-88bf6e4418f5",
   "metadata": {},
   "outputs": [
    {
     "data": {
      "text/plain": [
       "Text(0.5, 0, 'Time')"
      ]
     },
     "execution_count": 24,
     "metadata": {},
     "output_type": "execute_result"
    },
    {
     "data": {
      "image/png": "[encoded data removed]",
      "text/plain": [
       "<Figure size 640x480 with 1 Axes>"
      ]
     },
     "metadata": {},
     "output_type": "display_data"
    }
   ],
   "source": [
    "(iq_df_plot\n",
    "     .plot\n",
    "     .line(lw=0.8))\n",
    "\n",
    "plt.title('true Values vs prediction')\n",
    "plt.xlabel('Time')"
   ]
  },
  {
   "cell_type": "markdown",
   "id": "be1c105a-1dfb-484b-aa8b-483759753816",
   "metadata": {},
   "source": [
    "## XGBoost "
   ]
  },
  {
   "cell_type": "code",
   "execution_count": null,
   "id": "950b463b-4944-4fb3-85c2-3e9238d3b6bf",
   "metadata": {},
   "outputs": [],
   "source": [
    "def XGBoost_dengue(X_train, Y_train, X_test, features):\n",
    "    xg_reg = xgb.XGBRegressor(eval_metric='mae', learning_rate = 0.1,\n",
    "                max_depth = 5, alpha = 10, n_estimators = 500)\n",
    "    xg_reg.fit(X_train.loc[:, features], Y_train)\n",
    "    pred = xg_reg.predict(X_test.loc[:, features])\n",
    "    pred = np.around(pred).astype(int)\n",
    "    pred[pred <0] = 0\n",
    "    return pred"
   ]
  },
  {
   "cell_type": "code",
   "execution_count": null,
   "id": "c6d478a2-4614-400e-a821-bd5a57019e19",
   "metadata": {},
   "outputs": [],
   "source": [
    "#features = ['reanalysis_specific_humidity_g_per_kg', 'reanalysis_dew_point_temp_k', 'station_avg_temp_c', 'station_min_temp_c']\n",
    "features = sj_train_features.columns"
   ]
  },
  {
   "cell_type": "code",
   "execution_count": null,
   "id": "de4e2e1b-23ae-4634-8370-ee5d63c15faa",
   "metadata": {},
   "outputs": [
    {
     "data": {
      "text/plain": [
       "26.029411764705884"
      ]
     },
     "execution_count": 27,
     "metadata": {},
     "output_type": "execute_result"
    }
   ],
   "source": [
    "#Test for sj\n",
    "sj_pred = XGBoost_dengue(sj_train_features_subtrain, sj_train_labels_subtrain, sj_train_features_subtest, features)\n",
    "mean_absolute_error(sj_train_labels_subtest, sj_pred)"
   ]
  },
  {
   "cell_type": "code",
   "execution_count": null,
   "id": "d127c654-c2cf-4a1d-9ca9-fe53d6c2e767",
   "metadata": {},
   "outputs": [],
   "source": [
    "sj_df_plot = sj_train_labels_subtest.copy()\n",
    "sj_df_plot['prediction'] = sj_pred"
   ]
  },
  {
   "cell_type": "code",
   "execution_count": null,
   "id": "d54decdb-26ed-4018-9a7c-04e4e3d7c4e0",
   "metadata": {},
   "outputs": [
    {
     "data": {
      "text/plain": [
       "Text(0.5, 0, 'Time')"
      ]
     },
     "execution_count": 29,
     "metadata": {},
     "output_type": "execute_result"
    },
    {
     "data": {
      "image/png": "[encoded data removed]",
      "text/plain": [
       "<Figure size 640x480 with 1 Axes>"
      ]
     },
     "metadata": {},
     "output_type": "display_data"
    }
   ],
   "source": [
    "(sj_df_plot\n",
    "     .plot\n",
    "     .line(lw=0.8))\n",
    "\n",
    "plt.title('true Values vs prediction')\n",
    "plt.xlabel('Time')"
   ]
  },
  {
   "cell_type": "markdown",
   "id": "08d67f26-9075-4436-b5fe-b7cabcec9942",
   "metadata": {},
   "source": [
    "## First submit with Linear model with few data"
   ]
  },
  {
   "cell_type": "code",
   "execution_count": null,
   "id": "3b5e441f-cf41-4eac-81d8-24256ee5cf80",
   "metadata": {},
   "outputs": [],
   "source": [
    "features = ['reanalysis_specific_humidity_g_per_kg', 'reanalysis_dew_point_temp_k', 'station_avg_temp_c', 'station_min_temp_c']"
   ]
  },
  {
   "cell_type": "code",
   "execution_count": null,
   "id": "d7267e13-72eb-4a81-b0ad-2b358ef3423d",
   "metadata": {},
   "outputs": [],
   "source": [
    "sj_pred = LinearRegression_dengue(sj_train_features, sj_train_labels, sj_test_features, features)\n",
    "iq_pred = LinearRegression_dengue(iq_train_features, iq_train_labels, iq_test_features, features)"
   ]
  },
  {
   "cell_type": "code",
   "execution_count": null,
   "id": "52627a4d-dd04-4661-8fb4-2b6e832b32ff",
   "metadata": {},
   "outputs": [
    {
     "data": {
      "text/html": [
       "<div>\n",
       "<style scoped>\n",
       "    .dataframe tbody tr th:only-of-type {\n",
       "        vertical-align: middle;\n",
       "    }\n",
       "\n",
       "    .dataframe tbody tr th {\n",
       "        vertical-align: top;\n",
       "    }\n",
       "\n",
       "    .dataframe thead th {\n",
       "        text-align: right;\n",
       "    }\n",
       "</style>\n",
       "<table border=\"1\" class=\"dataframe\">\n",
       "  <thead>\n",
       "    <tr style=\"text-align: right;\">\n",
       "      <th></th>\n",
       "      <th></th>\n",
       "      <th></th>\n",
       "      <th>total_cases</th>\n",
       "    </tr>\n",
       "    <tr>\n",
       "      <th>city</th>\n",
       "      <th>year</th>\n",
       "      <th>weekofyear</th>\n",
       "      <th></th>\n",
       "    </tr>\n",
       "  </thead>\n",
       "  <tbody>\n",
       "    <tr>\n",
       "      <th rowspan=\"5\" valign=\"top\">sj</th>\n",
       "      <th rowspan=\"5\" valign=\"top\">2008</th>\n",
       "      <th>18</th>\n",
       "      <td>0</td>\n",
       "    </tr>\n",
       "    <tr>\n",
       "      <th>19</th>\n",
       "      <td>0</td>\n",
       "    </tr>\n",
       "    <tr>\n",
       "      <th>20</th>\n",
       "      <td>0</td>\n",
       "    </tr>\n",
       "    <tr>\n",
       "      <th>21</th>\n",
       "      <td>0</td>\n",
       "    </tr>\n",
       "    <tr>\n",
       "      <th>22</th>\n",
       "      <td>0</td>\n",
       "    </tr>\n",
       "    <tr>\n",
       "      <th>...</th>\n",
       "      <th>...</th>\n",
       "      <th>...</th>\n",
       "      <td>...</td>\n",
       "    </tr>\n",
       "    <tr>\n",
       "      <th rowspan=\"5\" valign=\"top\">iq</th>\n",
       "      <th rowspan=\"5\" valign=\"top\">2013</th>\n",
       "      <th>22</th>\n",
       "      <td>0</td>\n",
       "    </tr>\n",
       "    <tr>\n",
       "      <th>23</th>\n",
       "      <td>0</td>\n",
       "    </tr>\n",
       "    <tr>\n",
       "      <th>24</th>\n",
       "      <td>0</td>\n",
       "    </tr>\n",
       "    <tr>\n",
       "      <th>25</th>\n",
       "      <td>0</td>\n",
       "    </tr>\n",
       "    <tr>\n",
       "      <th>26</th>\n",
       "      <td>0</td>\n",
       "    </tr>\n",
       "  </tbody>\n",
       "</table>\n",
       "<p>416 rows × 1 columns</p>\n",
       "</div>"
      ],
      "text/plain": [
       "                      total_cases\n",
       "city year weekofyear             \n",
       "sj   2008 18                    0\n",
       "          19                    0\n",
       "          20                    0\n",
       "          21                    0\n",
       "          22                    0\n",
       "...                           ...\n",
       "iq   2013 22                    0\n",
       "          23                    0\n",
       "          24                    0\n",
       "          25                    0\n",
       "          26                    0\n",
       "\n",
       "[416 rows x 1 columns]"
      ]
     },
     "execution_count": 32,
     "metadata": {},
     "output_type": "execute_result"
    }
   ],
   "source": [
    "submission = pd.read_csv(\"./data/submission_format.csv\",\n",
    "                         index_col=[0, 1, 2])\n",
    "submission"
   ]
  },
  {
   "cell_type": "code",
   "execution_count": null,
   "id": "f55521ea-fe2b-45f4-8527-bab5441ddcb8",
   "metadata": {},
   "outputs": [],
   "source": [
    "submission['total_cases'] = np.concatenate((sj_pred, iq_pred))"
   ]
  },
  {
   "cell_type": "code",
   "execution_count": null,
   "id": "d26edd37-2fc4-4d05-b695-388a10ad2b43",
   "metadata": {},
   "outputs": [],
   "source": [
    "submission.to_csv(\"./data/baseline.csv\")"
   ]
  },
  {
   "cell_type": "code",
   "execution_count": null,
   "id": "5f5dd239-0a33-4e49-a8fb-eb798ee713fb",
   "metadata": {},
   "outputs": [
    {
     "data": {
      "text/html": [
       "<div>\n",
       "<style scoped>\n",
       "    .dataframe tbody tr th:only-of-type {\n",
       "        vertical-align: middle;\n",
       "    }\n",
       "\n",
       "    .dataframe tbody tr th {\n",
       "        vertical-align: top;\n",
       "    }\n",
       "\n",
       "    .dataframe thead th {\n",
       "        text-align: right;\n",
       "    }\n",
       "</style>\n",
       "<table border=\"1\" class=\"dataframe\">\n",
       "  <thead>\n",
       "    <tr style=\"text-align: right;\">\n",
       "      <th></th>\n",
       "      <th></th>\n",
       "      <th></th>\n",
       "      <th>total_cases</th>\n",
       "    </tr>\n",
       "    <tr>\n",
       "      <th>city</th>\n",
       "      <th>year</th>\n",
       "      <th>weekofyear</th>\n",
       "      <th></th>\n",
       "    </tr>\n",
       "  </thead>\n",
       "  <tbody>\n",
       "    <tr>\n",
       "      <th rowspan=\"5\" valign=\"top\">sj</th>\n",
       "      <th rowspan=\"5\" valign=\"top\">2008</th>\n",
       "      <th>18</th>\n",
       "      <td>28</td>\n",
       "    </tr>\n",
       "    <tr>\n",
       "      <th>19</th>\n",
       "      <td>25</td>\n",
       "    </tr>\n",
       "    <tr>\n",
       "      <th>20</th>\n",
       "      <td>34</td>\n",
       "    </tr>\n",
       "    <tr>\n",
       "      <th>21</th>\n",
       "      <td>28</td>\n",
       "    </tr>\n",
       "    <tr>\n",
       "      <th>22</th>\n",
       "      <td>30</td>\n",
       "    </tr>\n",
       "    <tr>\n",
       "      <th>...</th>\n",
       "      <th>...</th>\n",
       "      <th>...</th>\n",
       "      <td>...</td>\n",
       "    </tr>\n",
       "    <tr>\n",
       "      <th rowspan=\"5\" valign=\"top\">iq</th>\n",
       "      <th rowspan=\"5\" valign=\"top\">2013</th>\n",
       "      <th>22</th>\n",
       "      <td>8</td>\n",
       "    </tr>\n",
       "    <tr>\n",
       "      <th>23</th>\n",
       "      <td>8</td>\n",
       "    </tr>\n",
       "    <tr>\n",
       "      <th>24</th>\n",
       "      <td>6</td>\n",
       "    </tr>\n",
       "    <tr>\n",
       "      <th>25</th>\n",
       "      <td>5</td>\n",
       "    </tr>\n",
       "    <tr>\n",
       "      <th>26</th>\n",
       "      <td>7</td>\n",
       "    </tr>\n",
       "  </tbody>\n",
       "</table>\n",
       "<p>416 rows × 1 columns</p>\n",
       "</div>"
      ],
      "text/plain": [
       "                      total_cases\n",
       "city year weekofyear             \n",
       "sj   2008 18                   28\n",
       "          19                   25\n",
       "          20                   34\n",
       "          21                   28\n",
       "          22                   30\n",
       "...                           ...\n",
       "iq   2013 22                    8\n",
       "          23                    8\n",
       "          24                    6\n",
       "          25                    5\n",
       "          26                    7\n",
       "\n",
       "[416 rows x 1 columns]"
      ]
     },
     "execution_count": 35,
     "metadata": {},
     "output_type": "execute_result"
    }
   ],
   "source": [
    "submission"
   ]
  },
  {
   "cell_type": "code",
   "execution_count": null,
   "id": "1a1e8b23-ded3-4c43-8f5c-c281b8dfcf88",
   "metadata": {},
   "outputs": [
    {
     "data": {
      "text/html": [
       "<div>\n",
       "<style scoped>\n",
       "    .dataframe tbody tr th:only-of-type {\n",
       "        vertical-align: middle;\n",
       "    }\n",
       "\n",
       "    .dataframe tbody tr th {\n",
       "        vertical-align: top;\n",
       "    }\n",
       "\n",
       "    .dataframe thead th {\n",
       "        text-align: right;\n",
       "    }\n",
       "</style>\n",
       "<table border=\"1\" class=\"dataframe\">\n",
       "  <thead>\n",
       "    <tr style=\"text-align: right;\">\n",
       "      <th></th>\n",
       "      <th></th>\n",
       "      <th></th>\n",
       "      <th>week_start_date</th>\n",
       "      <th>ndvi_ne</th>\n",
       "      <th>ndvi_nw</th>\n",
       "      <th>ndvi_se</th>\n",
       "      <th>ndvi_sw</th>\n",
       "      <th>precipitation_amt_mm</th>\n",
       "      <th>reanalysis_air_temp_k</th>\n",
       "      <th>reanalysis_avg_temp_k</th>\n",
       "      <th>reanalysis_dew_point_temp_k</th>\n",
       "      <th>reanalysis_max_air_temp_k</th>\n",
       "      <th>...</th>\n",
       "      <th>reanalysis_precip_amt_kg_per_m2</th>\n",
       "      <th>reanalysis_relative_humidity_percent</th>\n",
       "      <th>reanalysis_sat_precip_amt_mm</th>\n",
       "      <th>reanalysis_specific_humidity_g_per_kg</th>\n",
       "      <th>reanalysis_tdtr_k</th>\n",
       "      <th>station_avg_temp_c</th>\n",
       "      <th>station_diur_temp_rng_c</th>\n",
       "      <th>station_max_temp_c</th>\n",
       "      <th>station_min_temp_c</th>\n",
       "      <th>station_precip_mm</th>\n",
       "    </tr>\n",
       "    <tr>\n",
       "      <th>city</th>\n",
       "      <th>year</th>\n",
       "      <th>weekofyear</th>\n",
       "      <th></th>\n",
       "      <th></th>\n",
       "      <th></th>\n",
       "      <th></th>\n",
       "      <th></th>\n",
       "      <th></th>\n",
       "      <th></th>\n",
       "      <th></th>\n",
       "      <th></th>\n",
       "      <th></th>\n",
       "      <th></th>\n",
       "      <th></th>\n",
       "      <th></th>\n",
       "      <th></th>\n",
       "      <th></th>\n",
       "      <th></th>\n",
       "      <th></th>\n",
       "      <th></th>\n",
       "      <th></th>\n",
       "      <th></th>\n",
       "      <th></th>\n",
       "    </tr>\n",
       "  </thead>\n",
       "  <tbody>\n",
       "    <tr>\n",
       "      <th rowspan=\"5\" valign=\"top\">sj</th>\n",
       "      <th rowspan=\"5\" valign=\"top\">2008</th>\n",
       "      <th>18</th>\n",
       "      <td>2008-04-29</td>\n",
       "      <td>-0.018900</td>\n",
       "      <td>-0.018900</td>\n",
       "      <td>0.102729</td>\n",
       "      <td>0.091200</td>\n",
       "      <td>78.60</td>\n",
       "      <td>298.492857</td>\n",
       "      <td>298.550000</td>\n",
       "      <td>294.527143</td>\n",
       "      <td>301.1</td>\n",
       "      <td>...</td>\n",
       "      <td>25.37</td>\n",
       "      <td>78.781429</td>\n",
       "      <td>78.60</td>\n",
       "      <td>15.918571</td>\n",
       "      <td>3.128571</td>\n",
       "      <td>26.528571</td>\n",
       "      <td>7.057143</td>\n",
       "      <td>33.3</td>\n",
       "      <td>21.7</td>\n",
       "      <td>75.2</td>\n",
       "    </tr>\n",
       "    <tr>\n",
       "      <th>19</th>\n",
       "      <td>2008-05-06</td>\n",
       "      <td>-0.018000</td>\n",
       "      <td>-0.012400</td>\n",
       "      <td>0.082043</td>\n",
       "      <td>0.072314</td>\n",
       "      <td>12.56</td>\n",
       "      <td>298.475714</td>\n",
       "      <td>298.557143</td>\n",
       "      <td>294.395714</td>\n",
       "      <td>300.8</td>\n",
       "      <td>...</td>\n",
       "      <td>21.83</td>\n",
       "      <td>78.230000</td>\n",
       "      <td>12.56</td>\n",
       "      <td>15.791429</td>\n",
       "      <td>2.571429</td>\n",
       "      <td>26.071429</td>\n",
       "      <td>5.557143</td>\n",
       "      <td>30.0</td>\n",
       "      <td>22.2</td>\n",
       "      <td>34.3</td>\n",
       "    </tr>\n",
       "    <tr>\n",
       "      <th>20</th>\n",
       "      <td>2008-05-13</td>\n",
       "      <td>-0.001500</td>\n",
       "      <td>NaN</td>\n",
       "      <td>0.151083</td>\n",
       "      <td>0.091529</td>\n",
       "      <td>3.66</td>\n",
       "      <td>299.455714</td>\n",
       "      <td>299.357143</td>\n",
       "      <td>295.308571</td>\n",
       "      <td>302.2</td>\n",
       "      <td>...</td>\n",
       "      <td>4.12</td>\n",
       "      <td>78.270000</td>\n",
       "      <td>3.66</td>\n",
       "      <td>16.674286</td>\n",
       "      <td>4.428571</td>\n",
       "      <td>27.928571</td>\n",
       "      <td>7.785714</td>\n",
       "      <td>32.8</td>\n",
       "      <td>22.8</td>\n",
       "      <td>3.0</td>\n",
       "    </tr>\n",
       "    <tr>\n",
       "      <th>21</th>\n",
       "      <td>2008-05-20</td>\n",
       "      <td>NaN</td>\n",
       "      <td>-0.019867</td>\n",
       "      <td>0.124329</td>\n",
       "      <td>0.125686</td>\n",
       "      <td>0.00</td>\n",
       "      <td>299.690000</td>\n",
       "      <td>299.728571</td>\n",
       "      <td>294.402857</td>\n",
       "      <td>303.0</td>\n",
       "      <td>...</td>\n",
       "      <td>2.20</td>\n",
       "      <td>73.015714</td>\n",
       "      <td>0.00</td>\n",
       "      <td>15.775714</td>\n",
       "      <td>4.342857</td>\n",
       "      <td>28.057143</td>\n",
       "      <td>6.271429</td>\n",
       "      <td>33.3</td>\n",
       "      <td>24.4</td>\n",
       "      <td>0.3</td>\n",
       "    </tr>\n",
       "    <tr>\n",
       "      <th>22</th>\n",
       "      <td>2008-05-27</td>\n",
       "      <td>0.056800</td>\n",
       "      <td>0.039833</td>\n",
       "      <td>0.062267</td>\n",
       "      <td>0.075914</td>\n",
       "      <td>0.76</td>\n",
       "      <td>299.780000</td>\n",
       "      <td>299.671429</td>\n",
       "      <td>294.760000</td>\n",
       "      <td>302.3</td>\n",
       "      <td>...</td>\n",
       "      <td>4.36</td>\n",
       "      <td>74.084286</td>\n",
       "      <td>0.76</td>\n",
       "      <td>16.137143</td>\n",
       "      <td>3.542857</td>\n",
       "      <td>27.614286</td>\n",
       "      <td>7.085714</td>\n",
       "      <td>33.3</td>\n",
       "      <td>23.3</td>\n",
       "      <td>84.1</td>\n",
       "    </tr>\n",
       "    <tr>\n",
       "      <th>...</th>\n",
       "      <th>...</th>\n",
       "      <th>...</th>\n",
       "      <td>...</td>\n",
       "      <td>...</td>\n",
       "      <td>...</td>\n",
       "      <td>...</td>\n",
       "      <td>...</td>\n",
       "      <td>...</td>\n",
       "      <td>...</td>\n",
       "      <td>...</td>\n",
       "      <td>...</td>\n",
       "      <td>...</td>\n",
       "      <td>...</td>\n",
       "      <td>...</td>\n",
       "      <td>...</td>\n",
       "      <td>...</td>\n",
       "      <td>...</td>\n",
       "      <td>...</td>\n",
       "      <td>...</td>\n",
       "      <td>...</td>\n",
       "      <td>...</td>\n",
       "      <td>...</td>\n",
       "      <td>...</td>\n",
       "    </tr>\n",
       "    <tr>\n",
       "      <th rowspan=\"5\" valign=\"top\">iq</th>\n",
       "      <th rowspan=\"5\" valign=\"top\">2013</th>\n",
       "      <th>22</th>\n",
       "      <td>2013-05-28</td>\n",
       "      <td>0.301471</td>\n",
       "      <td>0.380029</td>\n",
       "      <td>0.280629</td>\n",
       "      <td>0.383186</td>\n",
       "      <td>41.12</td>\n",
       "      <td>297.774286</td>\n",
       "      <td>298.964286</td>\n",
       "      <td>295.638571</td>\n",
       "      <td>305.5</td>\n",
       "      <td>...</td>\n",
       "      <td>67.60</td>\n",
       "      <td>89.990000</td>\n",
       "      <td>41.12</td>\n",
       "      <td>17.185714</td>\n",
       "      <td>10.100000</td>\n",
       "      <td>27.400000</td>\n",
       "      <td>9.050000</td>\n",
       "      <td>32.6</td>\n",
       "      <td>21.8</td>\n",
       "      <td>33.0</td>\n",
       "    </tr>\n",
       "    <tr>\n",
       "      <th>23</th>\n",
       "      <td>2013-06-04</td>\n",
       "      <td>0.247600</td>\n",
       "      <td>0.296343</td>\n",
       "      <td>0.285371</td>\n",
       "      <td>0.350357</td>\n",
       "      <td>71.52</td>\n",
       "      <td>297.167143</td>\n",
       "      <td>298.328571</td>\n",
       "      <td>295.845714</td>\n",
       "      <td>306.3</td>\n",
       "      <td>...</td>\n",
       "      <td>45.70</td>\n",
       "      <td>93.891429</td>\n",
       "      <td>71.52</td>\n",
       "      <td>17.448571</td>\n",
       "      <td>9.657143</td>\n",
       "      <td>27.520000</td>\n",
       "      <td>10.720000</td>\n",
       "      <td>33.8</td>\n",
       "      <td>21.4</td>\n",
       "      <td>68.0</td>\n",
       "    </tr>\n",
       "    <tr>\n",
       "      <th>24</th>\n",
       "      <td>2013-06-11</td>\n",
       "      <td>0.238729</td>\n",
       "      <td>0.251029</td>\n",
       "      <td>0.252586</td>\n",
       "      <td>0.249771</td>\n",
       "      <td>78.96</td>\n",
       "      <td>295.831429</td>\n",
       "      <td>296.607143</td>\n",
       "      <td>294.894286</td>\n",
       "      <td>304.6</td>\n",
       "      <td>...</td>\n",
       "      <td>45.22</td>\n",
       "      <td>94.967143</td>\n",
       "      <td>78.96</td>\n",
       "      <td>16.410000</td>\n",
       "      <td>7.385714</td>\n",
       "      <td>27.200000</td>\n",
       "      <td>10.075000</td>\n",
       "      <td>32.6</td>\n",
       "      <td>21.6</td>\n",
       "      <td>93.2</td>\n",
       "    </tr>\n",
       "    <tr>\n",
       "      <th>25</th>\n",
       "      <td>2013-06-18</td>\n",
       "      <td>0.310429</td>\n",
       "      <td>0.302700</td>\n",
       "      <td>0.406614</td>\n",
       "      <td>0.403943</td>\n",
       "      <td>39.54</td>\n",
       "      <td>295.778571</td>\n",
       "      <td>297.400000</td>\n",
       "      <td>293.648571</td>\n",
       "      <td>305.9</td>\n",
       "      <td>...</td>\n",
       "      <td>4.70</td>\n",
       "      <td>89.057143</td>\n",
       "      <td>39.54</td>\n",
       "      <td>15.137143</td>\n",
       "      <td>8.228571</td>\n",
       "      <td>26.700000</td>\n",
       "      <td>8.480000</td>\n",
       "      <td>32.2</td>\n",
       "      <td>21.8</td>\n",
       "      <td>34.1</td>\n",
       "    </tr>\n",
       "    <tr>\n",
       "      <th>26</th>\n",
       "      <td>2013-06-25</td>\n",
       "      <td>0.339467</td>\n",
       "      <td>0.240071</td>\n",
       "      <td>0.356943</td>\n",
       "      <td>0.273600</td>\n",
       "      <td>51.80</td>\n",
       "      <td>297.372857</td>\n",
       "      <td>299.000000</td>\n",
       "      <td>294.615714</td>\n",
       "      <td>307.3</td>\n",
       "      <td>...</td>\n",
       "      <td>27.80</td>\n",
       "      <td>87.030000</td>\n",
       "      <td>51.80</td>\n",
       "      <td>16.148571</td>\n",
       "      <td>11.542857</td>\n",
       "      <td>27.350000</td>\n",
       "      <td>9.675000</td>\n",
       "      <td>32.6</td>\n",
       "      <td>22.0</td>\n",
       "      <td>14.9</td>\n",
       "    </tr>\n",
       "  </tbody>\n",
       "</table>\n",
       "<p>416 rows × 21 columns</p>\n",
       "</div>"
      ],
      "text/plain": [
       "                     week_start_date   ndvi_ne   ndvi_nw   ndvi_se   ndvi_sw  \\\n",
       "city year weekofyear                                                           \n",
       "sj   2008 18              2008-04-29 -0.018900 -0.018900  0.102729  0.091200   \n",
       "          19              2008-05-06 -0.018000 -0.012400  0.082043  0.072314   \n",
       "          20              2008-05-13 -0.001500       NaN  0.151083  0.091529   \n",
       "          21              2008-05-20       NaN -0.019867  0.124329  0.125686   \n",
       "          22              2008-05-27  0.056800  0.039833  0.062267  0.075914   \n",
       "...                              ...       ...       ...       ...       ...   \n",
       "iq   2013 22              2013-05-28  0.301471  0.380029  0.280629  0.383186   \n",
       "          23              2013-06-04  0.247600  0.296343  0.285371  0.350357   \n",
       "          24              2013-06-11  0.238729  0.251029  0.252586  0.249771   \n",
       "          25              2013-06-18  0.310429  0.302700  0.406614  0.403943   \n",
       "          26              2013-06-25  0.339467  0.240071  0.356943  0.273600   \n",
       "\n",
       "                      precipitation_amt_mm  reanalysis_air_temp_k  \\\n",
       "city year weekofyear                                                \n",
       "sj   2008 18                         78.60             298.492857   \n",
       "          19                         12.56             298.475714   \n",
       "          20                          3.66             299.455714   \n",
       "          21                          0.00             299.690000   \n",
       "          22                          0.76             299.780000   \n",
       "...                                    ...                    ...   \n",
       "iq   2013 22                         41.12             297.774286   \n",
       "          23                         71.52             297.167143   \n",
       "          24                         78.96             295.831429   \n",
       "          25                         39.54             295.778571   \n",
       "          26                         51.80             297.372857   \n",
       "\n",
       "                      reanalysis_avg_temp_k  reanalysis_dew_point_temp_k  \\\n",
       "city year weekofyear                                                       \n",
       "sj   2008 18                     298.550000                   294.527143   \n",
       "          19                     298.557143                   294.395714   \n",
       "          20                     299.357143                   295.308571   \n",
       "          21                     299.728571                   294.402857   \n",
       "          22                     299.671429                   294.760000   \n",
       "...                                     ...                          ...   \n",
       "iq   2013 22                     298.964286                   295.638571   \n",
       "          23                     298.328571                   295.845714   \n",
       "          24                     296.607143                   294.894286   \n",
       "          25                     297.400000                   293.648571   \n",
       "          26                     299.000000                   294.615714   \n",
       "\n",
       "                      reanalysis_max_air_temp_k  ...  \\\n",
       "city year weekofyear                             ...   \n",
       "sj   2008 18                              301.1  ...   \n",
       "          19                              300.8  ...   \n",
       "          20                              302.2  ...   \n",
       "          21                              303.0  ...   \n",
       "          22                              302.3  ...   \n",
       "...                                         ...  ...   \n",
       "iq   2013 22                              305.5  ...   \n",
       "          23                              306.3  ...   \n",
       "          24                              304.6  ...   \n",
       "          25                              305.9  ...   \n",
       "          26                              307.3  ...   \n",
       "\n",
       "                      reanalysis_precip_amt_kg_per_m2  \\\n",
       "city year weekofyear                                    \n",
       "sj   2008 18                                    25.37   \n",
       "          19                                    21.83   \n",
       "          20                                     4.12   \n",
       "          21                                     2.20   \n",
       "          22                                     4.36   \n",
       "...                                               ...   \n",
       "iq   2013 22                                    67.60   \n",
       "          23                                    45.70   \n",
       "          24                                    45.22   \n",
       "          25                                     4.70   \n",
       "          26                                    27.80   \n",
       "\n",
       "                      reanalysis_relative_humidity_percent  \\\n",
       "city year weekofyear                                         \n",
       "sj   2008 18                                     78.781429   \n",
       "          19                                     78.230000   \n",
       "          20                                     78.270000   \n",
       "          21                                     73.015714   \n",
       "          22                                     74.084286   \n",
       "...                                                    ...   \n",
       "iq   2013 22                                     89.990000   \n",
       "          23                                     93.891429   \n",
       "          24                                     94.967143   \n",
       "          25                                     89.057143   \n",
       "          26                                     87.030000   \n",
       "\n",
       "                      reanalysis_sat_precip_amt_mm  \\\n",
       "city year weekofyear                                 \n",
       "sj   2008 18                                 78.60   \n",
       "          19                                 12.56   \n",
       "          20                                  3.66   \n",
       "          21                                  0.00   \n",
       "          22                                  0.76   \n",
       "...                                            ...   \n",
       "iq   2013 22                                 41.12   \n",
       "          23                                 71.52   \n",
       "          24                                 78.96   \n",
       "          25                                 39.54   \n",
       "          26                                 51.80   \n",
       "\n",
       "                      reanalysis_specific_humidity_g_per_kg  \\\n",
       "city year weekofyear                                          \n",
       "sj   2008 18                                      15.918571   \n",
       "          19                                      15.791429   \n",
       "          20                                      16.674286   \n",
       "          21                                      15.775714   \n",
       "          22                                      16.137143   \n",
       "...                                                     ...   \n",
       "iq   2013 22                                      17.185714   \n",
       "          23                                      17.448571   \n",
       "          24                                      16.410000   \n",
       "          25                                      15.137143   \n",
       "          26                                      16.148571   \n",
       "\n",
       "                      reanalysis_tdtr_k  station_avg_temp_c  \\\n",
       "city year weekofyear                                          \n",
       "sj   2008 18                   3.128571           26.528571   \n",
       "          19                   2.571429           26.071429   \n",
       "          20                   4.428571           27.928571   \n",
       "          21                   4.342857           28.057143   \n",
       "          22                   3.542857           27.614286   \n",
       "...                                 ...                 ...   \n",
       "iq   2013 22                  10.100000           27.400000   \n",
       "          23                   9.657143           27.520000   \n",
       "          24                   7.385714           27.200000   \n",
       "          25                   8.228571           26.700000   \n",
       "          26                  11.542857           27.350000   \n",
       "\n",
       "                      station_diur_temp_rng_c  station_max_temp_c  \\\n",
       "city year weekofyear                                                \n",
       "sj   2008 18                         7.057143                33.3   \n",
       "          19                         5.557143                30.0   \n",
       "          20                         7.785714                32.8   \n",
       "          21                         6.271429                33.3   \n",
       "          22                         7.085714                33.3   \n",
       "...                                       ...                 ...   \n",
       "iq   2013 22                         9.050000                32.6   \n",
       "          23                        10.720000                33.8   \n",
       "          24                        10.075000                32.6   \n",
       "          25                         8.480000                32.2   \n",
       "          26                         9.675000                32.6   \n",
       "\n",
       "                      station_min_temp_c  station_precip_mm  \n",
       "city year weekofyear                                         \n",
       "sj   2008 18                        21.7               75.2  \n",
       "          19                        22.2               34.3  \n",
       "          20                        22.8                3.0  \n",
       "          21                        24.4                0.3  \n",
       "          22                        23.3               84.1  \n",
       "...                                  ...                ...  \n",
       "iq   2013 22                        21.8               33.0  \n",
       "          23                        21.4               68.0  \n",
       "          24                        21.6               93.2  \n",
       "          25                        21.8               34.1  \n",
       "          26                        22.0               14.9  \n",
       "\n",
       "[416 rows x 21 columns]"
      ]
     },
     "execution_count": 36,
     "metadata": {},
     "output_type": "execute_result"
    }
   ],
   "source": [
    "test_features"
   ]
  },
  {
   "cell_type": "code",
   "execution_count": null,
   "id": "e3350d35-667b-4041-8b4a-078946ff4700",
   "metadata": {},
   "outputs": [],
   "source": []
  }
 ],
 "metadata": {
  "kernelspec": {
   "display_name": "Python 3 (ipykernel)",
   "language": "python",
   "name": "python3"
  },
  "language_info": {
   "codemirror_mode": {
    "name": "ipython",
    "version": 3
   },
   "file_extension": ".py",
   "mimetype": "text/x-python",
   "name": "python",
   "nbconvert_exporter": "python",
   "pygments_lexer": "ipython3",
   "version": "3.9.13"
  }
 },
 "nbformat": 4,
 "nbformat_minor": 5
}
